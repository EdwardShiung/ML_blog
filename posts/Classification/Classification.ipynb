{
  "cells": [
    {
      "cell_type": "raw",
      "metadata": {},
      "source": [
        "---\n",
        "title: Classification\n",
        "title-block-banner: false\n",
        "author: Edward Xiong\n",
        "date: '2023-11-05'\n",
        "description: Understanding how to detect Anomaly/Outlier\n",
        "format:\n",
        "  html:\n",
        "    toc: true\n",
        "    toc-location: right\n",
        "categories:\n",
        "  - Statistics\n",
        "  - Python\n",
        "  - Machine Learning\n",
        "image: ../../assets/classification.jpg\n",
        "comments:\n",
        "  giscus:\n",
        "    repo: EdwardShiung/ml_CS5805\n",
        "---"
      ]
    },
    {
      "attachments": {},
      "cell_type": "markdown",
      "metadata": {},
      "source": [
        "# Classification\n",
        "\n",
        "In machine learning, classification is a supervised learning task with the primary goal of mapping input data to discrete class labels. In other words, the objective of a classification model is to learn patterns from known training data to categorize new, unlabeled data into predefined classes."
      ]
    },
    {
      "cell_type": "code",
      "execution_count": null,
      "metadata": {
        "vscode": {
          "languageId": "python"
        }
      },
      "outputs": [],
      "source": [
        "import numpy as np\n",
        "import matplotlib.pyplot as plt\n",
        "import pandas as pd"
      ]
    },
    {
      "cell_type": "code",
      "execution_count": null,
      "metadata": {
        "vscode": {
          "languageId": "python"
        }
      },
      "outputs": [],
      "source": [
        "data = np.random.randn(1000)\n",
        "plt.hist(data, bins=20, color='blue', alpha=0.5)\n",
        "plt.title('Histogram of Random Data')\n",
        "plt.xlabel('Value')\n",
        "plt.ylabel('Frequency')\n",
        "plt.show()"
      ]
    }
  ],
  "metadata": {
    "kernelspec": {
      "display_name": "Python 3 (ipykernel)",
      "language": "python",
      "name": "python3"
    }
  },
  "nbformat": 4,
  "nbformat_minor": 4
}
